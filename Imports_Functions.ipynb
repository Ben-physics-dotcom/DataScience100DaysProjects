{
 "cells": [
  {
   "cell_type": "markdown",
   "id": "d2cec0f8",
   "metadata": {},
   "source": [
    "# Imports"
   ]
  },
  {
   "cell_type": "code",
   "execution_count": 3,
   "id": "e7c23a63",
   "metadata": {},
   "outputs": [],
   "source": [
    "import numpy as np\n",
    "import pandas as pd\n",
    "import matplotlib.pyplot as plt\n",
    "import seaborn as sns\n",
    "from copy import deepcopy\n",
    "import pickle"
   ]
  },
  {
   "cell_type": "code",
   "execution_count": 4,
   "id": "0cb084b7",
   "metadata": {},
   "outputs": [],
   "source": [
    "from scipy.stats import linregress"
   ]
  },
  {
   "cell_type": "code",
   "execution_count": 9,
   "id": "3f6ec2e7",
   "metadata": {},
   "outputs": [],
   "source": [
    "from sklearn.linear_model import LinearRegression\n",
    "from sklearn.model_selection import train_test_split\n",
    "from sklearn.metrics import mean_absolute_error, mean_squared_error, r2_score, root_mean_squared_error\n"
   ]
  },
  {
   "cell_type": "markdown",
   "id": "4f3cafdf",
   "metadata": {},
   "source": [
    "# Functions"
   ]
  },
  {
   "cell_type": "code",
   "execution_count": 6,
   "id": "2b21dad7",
   "metadata": {},
   "outputs": [],
   "source": [
    "def linreg(data: pd.DataFrame, x, y, model, results: dict, col_name: str) -> dict:\n",
    "    if deepcopy(model).__name__ == 'linregress':\n",
    "        slope, intercept, r_value, p_value, std_err = model(x=data[x], y=data[y])\n",
    "        results[col_name] = {\n",
    "            'model': deepcopy(model),\n",
    "            'slope': slope,\n",
    "            'intercept': intercept,\n",
    "            'r_value': r_value**2,\n",
    "            'p_value': p_value,\n",
    "            'std_err': std_err\n",
    "        }\n",
    "    return results"
   ]
  },
  {
   "cell_type": "code",
   "execution_count": null,
   "id": "9d44e595",
   "metadata": {},
   "outputs": [],
   "source": [
    "def results(data: pd.DataFrame, X, y, model, results: dict, col_name: str) -> dict:\n",
    "    if deepcopy(model).__name__ == 'linregress':\n",
    "        slope, intercept, r_value, p_value, std_err = model(x=data[X], y=data[y])\n",
    "        results[col_name] = {\n",
    "            'model': deepcopy(model),\n",
    "            'slope': slope,\n",
    "            'intercept': intercept,\n",
    "            'r_value': r_value**2,\n",
    "            'p_value': p_value,\n",
    "            'std_err': std_err\n",
    "        }\n",
    "        return results\n",
    "    elif deepcopy(model).__name__ == 'OLS':\n",
    "        results[col_name] = {\n",
    "            'model': deepcopy(model),\n",
    "            'params': model.params,\n",
    "            'rsquared': model.rsquared\n",
    "        }\n",
    "        return results\n",
    "    elif deepcopy(model).__name__ == 'LinearRegression':\n",
    "        x_x = data[X]\n",
    "        yy = data[y]\n",
    "        m = model()\n",
    "\n",
    "        # Split\n",
    "        xtrain, xtest, ytrain, ytest = train_test_split(x_x, yy, test_size=0.2, random_state=42)\n",
    "\n",
    "        # Fit\n",
    "        m.fit(xtrain, ytrain)\n",
    "\n",
    "        # Prediction\n",
    "        ypred = m.predict(xtest)\n",
    "\n",
    "        # Coeff\n",
    "        coeffs = {'Feature': x_x.columns, 'Coefficient': m.coef_}\n",
    "\n",
    "        results[col_name] = {\n",
    "            'model': deepcopy(model),\n",
    "            'coefficients': coeffs,\n",
    "            'Intercept': m.intercept_,\n",
    "            'rsquared': r2_score(ytest, ypred),\n",
    "            'mae': mean_absolute_error(ytest, ypred),\n",
    "            'mse': mean_squared_error(ytest, ypred),\n",
    "            'rmse': root_mean_squared_error(ytest, ypred, squared=False)\n",
    "        }\n",
    "        return results\n",
    "    else:\n",
    "        return results"
   ]
  }
 ],
 "metadata": {
  "kernelspec": {
   "display_name": "projects",
   "language": "python",
   "name": "python3"
  },
  "language_info": {
   "codemirror_mode": {
    "name": "ipython",
    "version": 3
   },
   "file_extension": ".py",
   "mimetype": "text/x-python",
   "name": "python",
   "nbconvert_exporter": "python",
   "pygments_lexer": "ipython3",
   "version": "3.12.8"
  }
 },
 "nbformat": 4,
 "nbformat_minor": 5
}
