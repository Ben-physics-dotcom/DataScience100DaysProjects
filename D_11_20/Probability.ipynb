{
 "cells": [
  {
   "cell_type": "markdown",
   "id": "a928740f",
   "metadata": {},
   "source": [
    "# Imports"
   ]
  },
  {
   "cell_type": "code",
   "execution_count": 2,
   "id": "1f59ed52",
   "metadata": {},
   "outputs": [],
   "source": [
    "import pandas as pd\n",
    "import seaborn as sns\n",
    "import matplotlib.pyplot as plt"
   ]
  },
  {
   "cell_type": "markdown",
   "id": "1dc34c7b",
   "metadata": {},
   "source": [
    "# Data"
   ]
  },
  {
   "cell_type": "code",
   "execution_count": 3,
   "id": "aee42873",
   "metadata": {},
   "outputs": [
    {
     "data": {
      "text/html": [
       "<div>\n",
       "<style scoped>\n",
       "    .dataframe tbody tr th:only-of-type {\n",
       "        vertical-align: middle;\n",
       "    }\n",
       "\n",
       "    .dataframe tbody tr th {\n",
       "        vertical-align: top;\n",
       "    }\n",
       "\n",
       "    .dataframe thead th {\n",
       "        text-align: right;\n",
       "    }\n",
       "</style>\n",
       "<table border=\"1\" class=\"dataframe\">\n",
       "  <thead>\n",
       "    <tr style=\"text-align: right;\">\n",
       "      <th></th>\n",
       "      <th>Company</th>\n",
       "      <th>TypeName</th>\n",
       "      <th>Inches</th>\n",
       "      <th>RAM_GB</th>\n",
       "      <th>GPU</th>\n",
       "      <th>OpSys</th>\n",
       "      <th>Weight_KG</th>\n",
       "      <th>Price_Rupee</th>\n",
       "      <th>CPU_model</th>\n",
       "      <th>CPU_GHz</th>\n",
       "      <th>ScreenRes_width</th>\n",
       "      <th>ScreenRes_height</th>\n",
       "      <th>TouchScreen</th>\n",
       "      <th>Memory_Size1_GB</th>\n",
       "      <th>Memory_Type1</th>\n",
       "      <th>Memory_Size2_GB</th>\n",
       "      <th>Memory_Type2</th>\n",
       "    </tr>\n",
       "  </thead>\n",
       "  <tbody>\n",
       "    <tr>\n",
       "      <th>0</th>\n",
       "      <td>Apple</td>\n",
       "      <td>Ultrabook</td>\n",
       "      <td>13.3</td>\n",
       "      <td>8</td>\n",
       "      <td>Intel Iris Plus Graphics 640</td>\n",
       "      <td>macOS</td>\n",
       "      <td>1.37</td>\n",
       "      <td>71378.6832</td>\n",
       "      <td>Intel Core i5</td>\n",
       "      <td>2.3</td>\n",
       "      <td>2560</td>\n",
       "      <td>1600</td>\n",
       "      <td>No</td>\n",
       "      <td>128</td>\n",
       "      <td>SSD</td>\n",
       "      <td>0</td>\n",
       "      <td>No second memory</td>\n",
       "    </tr>\n",
       "    <tr>\n",
       "      <th>1</th>\n",
       "      <td>Apple</td>\n",
       "      <td>Ultrabook</td>\n",
       "      <td>13.3</td>\n",
       "      <td>8</td>\n",
       "      <td>Intel HD Graphics 6000</td>\n",
       "      <td>macOS</td>\n",
       "      <td>1.34</td>\n",
       "      <td>47895.5232</td>\n",
       "      <td>Intel Core i5</td>\n",
       "      <td>1.8</td>\n",
       "      <td>1440</td>\n",
       "      <td>900</td>\n",
       "      <td>No</td>\n",
       "      <td>128</td>\n",
       "      <td>Flash Storage</td>\n",
       "      <td>0</td>\n",
       "      <td>No second memory</td>\n",
       "    </tr>\n",
       "  </tbody>\n",
       "</table>\n",
       "</div>"
      ],
      "text/plain": [
       "  Company   TypeName  Inches  RAM_GB                           GPU  OpSys  \\\n",
       "0   Apple  Ultrabook    13.3       8  Intel Iris Plus Graphics 640  macOS   \n",
       "1   Apple  Ultrabook    13.3       8        Intel HD Graphics 6000  macOS   \n",
       "\n",
       "   Weight_KG  Price_Rupee      CPU_model  CPU_GHz  ScreenRes_width  \\\n",
       "0       1.37   71378.6832  Intel Core i5      2.3             2560   \n",
       "1       1.34   47895.5232  Intel Core i5      1.8             1440   \n",
       "\n",
       "   ScreenRes_height TouchScreen  Memory_Size1_GB   Memory_Type1  \\\n",
       "0              1600          No              128            SSD   \n",
       "1               900          No              128  Flash Storage   \n",
       "\n",
       "   Memory_Size2_GB      Memory_Type2  \n",
       "0                0  No second memory  \n",
       "1                0  No second memory  "
      ]
     },
     "execution_count": 3,
     "metadata": {},
     "output_type": "execute_result"
    }
   ],
   "source": [
    "data = pd.read_csv('../D_1_10/Data/laptopData_cleaned.csv')\n",
    "data.head(2)"
   ]
  },
  {
   "cell_type": "markdown",
   "id": "1d1ce2f7",
   "metadata": {},
   "source": [
    "# 1) Basic Probability: Single Events"
   ]
  },
  {
   "cell_type": "code",
   "execution_count": 9,
   "id": "988c3e2a",
   "metadata": {},
   "outputs": [
    {
     "name": "stdout",
     "output_type": "stream",
     "text": [
      "Probability of TouchScreen: 14.56%\n",
      "Probability of Apple: 1.65%\n",
      "Probability of RAM >= 16GB: 17.07%\n",
      "Probability of Intel Core i7: 0.31%\n"
     ]
    }
   ],
   "source": [
    "p_touchscreen = (data['TouchScreen'] == 'Yes').mean()\n",
    "print(f\"Probability of TouchScreen: {p_touchscreen*100:.2f}%\")\n",
    "p_apple = (data['Company'] == 'Apple').mean()\n",
    "print(f\"Probability of Apple: {p_apple*100:.2f}%\")\n",
    "p_ram_larger_equal_16 = (data['RAM_GB'] >= 16).mean()\n",
    "print(f\"Probability of RAM >= 16GB: {p_ram_larger_equal_16*100:.2f}%\")\n",
    "p_cpu_i7 = (data['CPU_model'] == 'Intel Core i7').mean()\n",
    "print(f\"Probability of Intel Core i7: {p_cpu_i7*100:.2f}%\")"
   ]
  },
  {
   "cell_type": "markdown",
   "id": "892d7877",
   "metadata": {},
   "source": [
    "# 2 Joint Probability"
   ]
  },
  {
   "cell_type": "code",
   "execution_count": 8,
   "id": "8b6450f6",
   "metadata": {},
   "outputs": [
    {
     "name": "stdout",
     "output_type": "stream",
     "text": [
      "Probability of Apple with SSD: 0.87%\n"
     ]
    }
   ],
   "source": [
    "# which probability have laptops are from apple to have a ssd card\n",
    "p_apple_ssd = ((data['Company'] == 'Apple') & (data['Memory_Type1'] == 'SSD')).mean()\n",
    "print(f\"Probability of Apple with SSD: {p_apple_ssd*100:.2f}%\")"
   ]
  },
  {
   "cell_type": "code",
   "execution_count": 10,
   "id": "0025ee7a",
   "metadata": {},
   "outputs": [
    {
     "name": "stdout",
     "output_type": "stream",
     "text": [
      "Probability of Dell with TouchScreen: 4.80%\n"
     ]
    }
   ],
   "source": [
    "# how many laptops are from dell and have touchscreen\n",
    "p_dell_touchscreen = ((data['Company'] == 'Dell') & (data['TouchScreen'] == 'Yes')).mean()\n",
    "print(f\"Probability of Dell with TouchScreen: {p_dell_touchscreen*100:.2f}%\")"
   ]
  },
  {
   "cell_type": "code",
   "execution_count": 20,
   "id": "6b201d1c",
   "metadata": {},
   "outputs": [
    {
     "data": {
      "text/plain": [
       "GPU\n",
       "Intel HD Graphics 620      271\n",
       "Intel HD Graphics 520      181\n",
       "Intel UHD Graphics 620      65\n",
       "Nvidia GeForce GTX 1050     64\n",
       "Nvidia GeForce GTX 1060     48\n",
       "                          ... \n",
       "Nvidia Quadro M500M          1\n",
       "AMD Radeon R7 M360           1\n",
       "Nvidia Quadro M3000M         1\n",
       "Nvidia GeForce 960M          1\n",
       "ARM Mali T860 MP4            1\n",
       "Name: count, Length: 110, dtype: int64"
      ]
     },
     "execution_count": 20,
     "metadata": {},
     "output_type": "execute_result"
    }
   ],
   "source": [
    "data['GPU'].value_counts()"
   ]
  },
  {
   "cell_type": "code",
   "execution_count": 19,
   "id": "7b52b69b",
   "metadata": {},
   "outputs": [
    {
     "data": {
      "text/plain": [
       "'Intel Iris Plus Graphics 640'"
      ]
     },
     "execution_count": 19,
     "metadata": {},
     "output_type": "execute_result"
    }
   ],
   "source": [
    "data['GPU'][0]"
   ]
  },
  {
   "cell_type": "code",
   "execution_count": null,
   "id": "d65c505d",
   "metadata": {},
   "outputs": [],
   "source": [
    "# gpu\n",
    "p_nvidia_gpu ="
   ]
  }
 ],
 "metadata": {
  "kernelspec": {
   "display_name": "projects",
   "language": "python",
   "name": "python3"
  },
  "language_info": {
   "codemirror_mode": {
    "name": "ipython",
    "version": 3
   },
   "file_extension": ".py",
   "mimetype": "text/x-python",
   "name": "python",
   "nbconvert_exporter": "python",
   "pygments_lexer": "ipython3",
   "version": "3.12.8"
  }
 },
 "nbformat": 4,
 "nbformat_minor": 5
}
