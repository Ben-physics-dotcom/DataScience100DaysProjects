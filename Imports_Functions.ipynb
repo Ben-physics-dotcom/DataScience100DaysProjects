{
 "cells": [
  {
   "cell_type": "markdown",
   "id": "d2cec0f8",
   "metadata": {},
   "source": [
    "# Imports"
   ]
  },
  {
   "cell_type": "code",
   "execution_count": 3,
   "id": "e7c23a63",
   "metadata": {},
   "outputs": [],
   "source": [
    "import numpy as np\n",
    "import pandas as pd\n",
    "import matplotlib.pyplot as plt\n",
    "import seaborn as sns\n",
    "from copy import deepcopy\n",
    "import pickle"
   ]
  },
  {
   "cell_type": "code",
   "execution_count": 4,
   "id": "0cb084b7",
   "metadata": {},
   "outputs": [],
   "source": [
    "from scipy.stats import linregress"
   ]
  },
  {
   "cell_type": "code",
   "execution_count": null,
   "id": "3f6ec2e7",
   "metadata": {},
   "outputs": [],
   "source": [
    "from sklearn.linear_model import LinearRegression\n",
    "from sklearn.model_selection import train_test_split\n",
    "from sklearn.metrics import mean_absolute_error, mean_squared_error, r2_score, root_mean_squared_error\n",
    "from sklearn.preprocessing import PolynomialFeatures\n",
    "from sklearn.pipeline import Pipeline"
   ]
  },
  {
   "cell_type": "markdown",
   "id": "4f3cafdf",
   "metadata": {},
   "source": [
    "# Functions"
   ]
  },
  {
   "cell_type": "markdown",
   "id": "3e67ec73",
   "metadata": {},
   "source": [
    "## Regression"
   ]
  },
  {
   "cell_type": "code",
   "execution_count": 6,
   "id": "2b21dad7",
   "metadata": {},
   "outputs": [],
   "source": [
    "def linreg(data: pd.DataFrame, x, y, model, results: dict, col_name: str) -> dict:\n",
    "    if deepcopy(model).__name__ == 'linregress':\n",
    "        slope, intercept, r_value, p_value, std_err = model(x=data[x], y=data[y])\n",
    "        results[col_name] = {\n",
    "            'model': deepcopy(model),\n",
    "            'slope': slope,\n",
    "            'intercept': intercept,\n",
    "            'r_value': r_value**2,\n",
    "            'p_value': p_value,\n",
    "            'std_err': std_err\n",
    "        }\n",
    "    return results"
   ]
  },
  {
   "cell_type": "code",
   "execution_count": null,
   "id": "8ea37e74",
   "metadata": {},
   "outputs": [],
   "source": [
    "# params = {\n",
    "#     'X': X, # colnames\n",
    "#     'y': y, # colname\n",
    "#     'Model': model,\n",
    "#     'col_name': col_name,\n",
    "#     'pol_degree': 2\n",
    "# }"
   ]
  },
  {
   "cell_type": "code",
   "execution_count": null,
   "id": "9d44e595",
   "metadata": {},
   "outputs": [
    {
     "ename": "NameError",
     "evalue": "name 'pd' is not defined",
     "output_type": "error",
     "traceback": [
      "\u001b[1;31m---------------------------------------------------------------------------\u001b[0m",
      "\u001b[1;31mNameError\u001b[0m                                 Traceback (most recent call last)",
      "Cell \u001b[1;32mIn[1], line 1\u001b[0m\n\u001b[1;32m----> 1\u001b[0m \u001b[38;5;28;01mdef\u001b[39;00m\u001b[38;5;250m \u001b[39m\u001b[38;5;21mresults_func\u001b[39m(data: pd\u001b[38;5;241m.\u001b[39mDataFrame, X, y, model, results: \u001b[38;5;28mdict\u001b[39m, col_name: \u001b[38;5;28mstr\u001b[39m) \u001b[38;5;241m-\u001b[39m\u001b[38;5;241m>\u001b[39m \u001b[38;5;28mdict\u001b[39m:\n\u001b[0;32m      2\u001b[0m     \u001b[38;5;28;01mif\u001b[39;00m deepcopy(model)\u001b[38;5;241m.\u001b[39m\u001b[38;5;18m__name__\u001b[39m \u001b[38;5;241m==\u001b[39m \u001b[38;5;124m'\u001b[39m\u001b[38;5;124mlinregress\u001b[39m\u001b[38;5;124m'\u001b[39m:\n\u001b[0;32m      3\u001b[0m         slope, intercept, r_value, p_value, std_err \u001b[38;5;241m=\u001b[39m model(x\u001b[38;5;241m=\u001b[39mdata[X], y\u001b[38;5;241m=\u001b[39mdata[y])\n",
      "\u001b[1;31mNameError\u001b[0m: name 'pd' is not defined"
     ]
    }
   ],
   "source": [
    "def results_func(data: pd.DataFrame, results: dict, params: dict) -> dict:\n",
    "    model = params['Model']\n",
    "    col_name = params['col_name']\n",
    "    X = params['X']\n",
    "    y = params['y']\n",
    "    if deepcopy(model).__name__ == 'linregress':\n",
    "        slope, intercept, r_value, p_value, std_err = model(x=data[X], y=data[y])\n",
    "        results[col_name] = {\n",
    "            'model': deepcopy(model),\n",
    "            'slope': slope,\n",
    "            'intercept': intercept,\n",
    "            'r_value': r_value**2,\n",
    "            'p_value': p_value,\n",
    "            'std_err': std_err\n",
    "        }\n",
    "        return results\n",
    "    elif deepcopy(model).__name__ == 'OLS':\n",
    "        results[col_name] = {\n",
    "            'model': deepcopy(model),\n",
    "            'params': model.params,\n",
    "            'rsquared': model.rsquared\n",
    "        }\n",
    "        return results\n",
    "    elif deepcopy(model).__name__ == 'LinearRegression':\n",
    "        x_x = data[X]\n",
    "        x_x = pd.get_dummies(x_x, drop_first=True)\n",
    "        yy = data[y]\n",
    "        m = model()\n",
    "\n",
    "        # Split\n",
    "        xtrain, xtest, ytrain, ytest = train_test_split(x_x, yy, test_size=0.2, random_state=42)\n",
    "\n",
    "        # Fit\n",
    "        m.fit(xtrain, ytrain)\n",
    "\n",
    "        # Prediction\n",
    "        ypred = m.predict(xtest)\n",
    "\n",
    "        # Coeff\n",
    "        coeffs = {'Feature': x_x.columns, 'Coefficient': m.coef_}\n",
    "\n",
    "        results[col_name] = {\n",
    "            'model': deepcopy(model),\n",
    "            'coefficients': coeffs,\n",
    "            'Intercept': m.intercept_,\n",
    "            'rsquared': r2_score(ytest, ypred),\n",
    "            'mae': mean_absolute_error(ytest, ypred),\n",
    "            'mse': mean_squared_error(ytest, ypred),\n",
    "            'rmse': root_mean_squared_error(ytest, ypred)\n",
    "        }\n",
    "        return results\n",
    "    elif deepcopy(model).__name__ == 'PolynomialFeatures':\n",
    "        X = pd.get_dummies(data[X], drop_first=True)\n",
    "        y = data[y]\n",
    "        # Split\n",
    "        xtrain, xtest, ytrain, ytest = train_test_split(X, y, test_size=0.2, random_state=42)\n",
    "\n",
    "        m = model(degree=params['pol_degree'])\n",
    "        m.fit(xtrain, ytrain)\n",
    "\n",
    "\n",
    "    else:\n",
    "        return results"
   ]
  },
  {
   "cell_type": "markdown",
   "id": "771598f5",
   "metadata": {},
   "source": [
    "## Saving results"
   ]
  },
  {
   "cell_type": "code",
   "execution_count": null,
   "id": "eeda7088",
   "metadata": {},
   "outputs": [],
   "source": [
    "def saving_results(results: dict) -> None:\n",
    "    with open('../Results/regressions.pkl', 'wb') as f:\n",
    "        pickle.dump(results, f)"
   ]
  },
  {
   "cell_type": "code",
   "execution_count": null,
   "id": "336141eb",
   "metadata": {},
   "outputs": [],
   "source": [
    "def loading_results() -> dict:\n",
    "    with open('../Results/regressions.pkl', 'rb') as f:\n",
    "        results = pickle.load(f)\n",
    "    return results"
   ]
  }
 ],
 "metadata": {
  "kernelspec": {
   "display_name": "projects",
   "language": "python",
   "name": "python3"
  },
  "language_info": {
   "codemirror_mode": {
    "name": "ipython",
    "version": 3
   },
   "file_extension": ".py",
   "mimetype": "text/x-python",
   "name": "python",
   "nbconvert_exporter": "python",
   "pygments_lexer": "ipython3",
   "version": "3.12.8"
  }
 },
 "nbformat": 4,
 "nbformat_minor": 5
}
